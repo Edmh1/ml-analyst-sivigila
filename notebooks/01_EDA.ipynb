{
 "cells": [
  {
   "cell_type": "markdown",
   "id": "a09fb599",
   "metadata": {},
   "source": [
    "## Descripción del Problema\n",
    "El problema se enmarca en el Sistema de Vigilancia de Salud Pública (Sivigila), que recopila y analiza datos de los casos de diferentes patologias notificados y confirmados por laboratorio o nexo epidemiológico en Colombia.\n",
    "\n",
    "En el presente trabajo se pretende realizar un realizar un análisis exploratorio sobre el conjunto de datos epidemiológicos obtenidos del sistema SIVIGILA (Colombia) centrado en la patologia DENGUE en el periodo 2022-2024 enfocado en detectar patrones, tendencias y posibles predicciones de esta enfermedad.\n",
    "\n",
    "El conjunto de datos esta disponible en: https://portalsivigila.ins.gov.co/Paginas/Buscador.aspx"
   ]
  },
  {
   "cell_type": "markdown",
   "id": "c66a5b56",
   "metadata": {},
   "source": [
    "### Importar librerias"
   ]
  },
  {
   "cell_type": "code",
   "execution_count": 2,
   "id": "c3b4acea",
   "metadata": {},
   "outputs": [],
   "source": [
    "import pandas as pd\n",
    "from pathlib import Path\n",
    "import sys\n",
    "\n",
    "# Agregar el directorio raíz del proyecto al sys.path para permitir importaciones de utilidades realizadas\n",
    "project_root = Path.cwd().parent\n",
    "sys.path.insert(0, str(project_root))\n",
    "\n",
    "# Importar la función directamente desde el paquete src para cargar los datos\n",
    "from src import data_utils\n"
   ]
  },
  {
   "cell_type": "markdown",
   "id": "5f2d40a1",
   "metadata": {},
   "source": [
    "### Carga Datos\n",
    "En esta sección se realiza la unión de los archivos descargados desde el portal del SIVIGILA, utilizando el módulo de utilidades. Posteriormente, se convierten en un único archivo CSV consolidado para su análisis."
   ]
  },
  {
   "cell_type": "code",
   "execution_count": null,
   "id": "03212cbf",
   "metadata": {},
   "outputs": [],
   "source": [
    "## Cargar los datos utilizando la función del módulo data_utils\n",
    "\n",
    "df = data_utils.cargar_excels()\n",
    "data_utils.guardar_dataframe(df, 'datos_full')\n"
   ]
  },
  {
   "cell_type": "markdown",
   "id": "a05bf993",
   "metadata": {},
   "source": [
    "En esta sección se realiza la lectura del archivo CSV previamente generado, con el fin de disponer de la base de datos unificada para su posterior procesamiento y análisis."
   ]
  },
  {
   "cell_type": "code",
   "execution_count": 5,
   "id": "2917c2fa",
   "metadata": {},
   "outputs": [
    {
     "name": "stderr",
     "output_type": "stream",
     "text": [
      "C:\\Users\\edavi\\AppData\\Local\\Temp\\ipykernel_17012\\2064948220.py:1: DtypeWarning: Columns (16,22,28,56,57) have mixed types. Specify dtype option on import or set low_memory=False.\n",
      "  df = pd.read_csv('../data/processed/datos_full.csv')\n"
     ]
    }
   ],
   "source": [
    "df = pd.read_csv('../data/processed/datos_full.csv')"
   ]
  },
  {
   "cell_type": "code",
   "execution_count": 6,
   "id": "c549d33a",
   "metadata": {},
   "outputs": [
    {
     "name": "stdout",
     "output_type": "stream",
     "text": [
      "<class 'pandas.core.frame.DataFrame'>\n",
      "RangeIndex: 501729 entries, 0 to 501728\n",
      "Data columns (total 73 columns):\n",
      " #   Column                     Non-Null Count   Dtype  \n",
      "---  ------                     --------------   -----  \n",
      " 0   CONSECUTIVE                501729 non-null  int64  \n",
      " 1   COD_EVE                    501729 non-null  int64  \n",
      " 2   FEC_NOT                    501729 non-null  object \n",
      " 3   SEMANA                     501729 non-null  int64  \n",
      " 4   ANO                        501729 non-null  int64  \n",
      " 5   COD_PRE                    501729 non-null  int64  \n",
      " 6   COD_SUB                    501729 non-null  int64  \n",
      " 7   EDAD                       501729 non-null  int64  \n",
      " 8   UNI_MED                    501729 non-null  int64  \n",
      " 9   nacionalidad               501729 non-null  int64  \n",
      " 10  nombre_nacionalidad        501729 non-null  object \n",
      " 11  SEXO                       501729 non-null  object \n",
      " 12  COD_PAIS_O                 501729 non-null  int64  \n",
      " 13  COD_DPTO_O                 501729 non-null  int64  \n",
      " 14  COD_MUN_O                  501729 non-null  int64  \n",
      " 15  AREA                       501729 non-null  int64  \n",
      " 16  OCUPACION                  501729 non-null  object \n",
      " 17  TIP_SS                     501729 non-null  object \n",
      " 18  COD_ASE                    491912 non-null  object \n",
      " 19  PER_ETN                    501729 non-null  int64  \n",
      " 20  GRU_POB                    0 non-null       float64\n",
      " 21  nom_grupo                  195437 non-null  object \n",
      " 22  estrato                    488585 non-null  object \n",
      " 23  GP_DISCAPA                 501729 non-null  int64  \n",
      " 24  GP_DESPLAZ                 501729 non-null  int64  \n",
      " 25  GP_MIGRANT                 501729 non-null  int64  \n",
      " 26  GP_CARCELA                 501729 non-null  int64  \n",
      " 27  GP_GESTAN                  501729 non-null  int64  \n",
      " 28  sem_ges                    193726 non-null  object \n",
      " 29  GP_INDIGEN                 501729 non-null  int64  \n",
      " 30  GP_POBICFB                 501729 non-null  int64  \n",
      " 31  GP_MAD_COM                 501729 non-null  int64  \n",
      " 32  GP_DESMOVI                 501729 non-null  int64  \n",
      " 33  GP_PSIQUIA                 501729 non-null  int64  \n",
      " 34  GP_VIC_VIO                 501729 non-null  int64  \n",
      " 35  GP_OTROS                   501729 non-null  int64  \n",
      " 36  fuente                     501729 non-null  int64  \n",
      " 37  COD_PAIS_R                 501729 non-null  int64  \n",
      " 38  COD_DPTO_R                 501729 non-null  int64  \n",
      " 39  COD_MUN_R                  501729 non-null  int64  \n",
      " 40  COD_DPTO_N                 501729 non-null  int64  \n",
      " 41  COD_MUN_N                  501729 non-null  int64  \n",
      " 42  FEC_CON                    501728 non-null  object \n",
      " 43  INI_SIN                    501729 non-null  object \n",
      " 44  TIP_CAS                    501729 non-null  int64  \n",
      " 45  PAC_HOS                    501729 non-null  int64  \n",
      " 46  FEC_HOS                    197946 non-null  object \n",
      " 47  CON_FIN                    501729 non-null  int64  \n",
      " 48  FEC_DEF                    0 non-null       float64\n",
      " 49  AJUSTE                     501729 non-null  int64  \n",
      " 50  FECHA_NTO                  501423 non-null  object \n",
      " 51  CER_DEF                    0 non-null       float64\n",
      " 52  CBMTE                      0 non-null       float64\n",
      " 53  FEC_ARC_XL                 501729 non-null  object \n",
      " 54  FEC_AJU                    501729 non-null  object \n",
      " 55  FM_FUERZA                  2991 non-null    float64\n",
      " 56  FM_UNIDAD                  2988 non-null    object \n",
      " 57  FM_GRADO                   2988 non-null    object \n",
      " 58  confirmados                501729 non-null  int64  \n",
      " 59  consecutive_origen         192102 non-null  float64\n",
      " 60  va_sispro                  501729 non-null  int64  \n",
      " 61  Estado_final_de_caso       501729 non-null  int64  \n",
      " 62  nom_est_f_caso             501729 non-null  object \n",
      " 63  Nom_upgd                   498670 non-null  object \n",
      " 64  Pais_ocurrencia            501729 non-null  object \n",
      " 65  Nombre_evento              501729 non-null  object \n",
      " 66  Departamento_ocurrencia    501729 non-null  object \n",
      " 67  Municipio_ocurrencia       501729 non-null  object \n",
      " 68  Pais_residencia            501729 non-null  object \n",
      " 69  Departamento_residencia    501729 non-null  object \n",
      " 70  Municipio_residencia       501727 non-null  object \n",
      " 71  Departamento_Notificacion  501729 non-null  object \n",
      " 72  Municipio_notificacion     501729 non-null  object \n",
      "dtypes: float64(6), int64(39), object(28)\n",
      "memory usage: 279.4+ MB\n"
     ]
    }
   ],
   "source": [
    "df.info()"
   ]
  }
 ],
 "metadata": {
  "kernelspec": {
   "display_name": "venv (3.13.7)",
   "language": "python",
   "name": "python3"
  },
  "language_info": {
   "codemirror_mode": {
    "name": "ipython",
    "version": 3
   },
   "file_extension": ".py",
   "mimetype": "text/x-python",
   "name": "python",
   "nbconvert_exporter": "python",
   "pygments_lexer": "ipython3",
   "version": "3.13.7"
  }
 },
 "nbformat": 4,
 "nbformat_minor": 5
}
