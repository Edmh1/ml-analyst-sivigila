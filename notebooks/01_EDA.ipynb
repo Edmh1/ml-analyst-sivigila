{
 "cells": [
  {
   "cell_type": "markdown",
   "id": "a09fb599",
   "metadata": {},
   "source": [
    "## Descripción del Problema\n",
    "El problema se enmarca en el Sistema de Vigilancia de Salud Pública (Sivigila), que recopila y analiza datos de los casos de diferentes patologias notificados y confirmados por laboratorio o nexo epidemiológico en Colombia.\n",
    "\n",
    "En el presente trabajo se pretende realizar un realizar un análisis exploratorio sobre el conjunto de datos epidemiológicos obtenidos del sistema SIVIGILA (Colombia) centrado en la patologia DENGUE en el periodo 2022-2024 enfocado en detectar patrones, tendencias y posibles predicciones de esta enfermedad.\n",
    "\n",
    "El conjunto de datos esta disponible en: https://portalsivigila.ins.gov.co/Paginas/Buscador.aspx"
   ]
  },
  {
   "cell_type": "code",
   "execution_count": 2,
   "id": "c3b4acea",
   "metadata": {},
   "outputs": [],
   "source": [
    "from pathlib import Path\n",
    "import sys\n",
    "\n",
    "# Agregar el directorio raíz del proyecto al sys.path para permitir importaciones de utilidades realizadas\n",
    "project_root = Path.cwd().parent\n",
    "sys.path.insert(0, str(project_root))"
   ]
  },
  {
   "cell_type": "markdown",
   "id": "5f2d40a1",
   "metadata": {},
   "source": [
    "## Carga Datos\n",
    "A continuación realizaremos la unión de los archivos descargados desde el portal del SIVIGILA y hacer la conversión a 1 solo archivo csv"
   ]
  },
  {
   "cell_type": "code",
   "execution_count": null,
   "id": "03212cbf",
   "metadata": {},
   "outputs": [],
   "source": [
    "# Importar la función directamente desde el paquete src para cargar los datos\n",
    "from src import data_utils\n",
    "\n",
    "df = data_utils.cargar_excels()\n",
    "data_utils.guardar_dataframe(df, 'datos_full')\n"
   ]
  }
 ],
 "metadata": {
  "kernelspec": {
   "display_name": "venv (3.13.7)",
   "language": "python",
   "name": "python3"
  },
  "language_info": {
   "codemirror_mode": {
    "name": "ipython",
    "version": 3
   },
   "file_extension": ".py",
   "mimetype": "text/x-python",
   "name": "python",
   "nbconvert_exporter": "python",
   "pygments_lexer": "ipython3",
   "version": "3.13.7"
  }
 },
 "nbformat": 4,
 "nbformat_minor": 5
}
