{
 "cells": [
  {
   "cell_type": "code",
   "execution_count": null,
   "id": "c3b4acea",
   "metadata": {},
   "outputs": [],
   "source": [
    "from pathlib import Path\n",
    "import sys\n",
    "\n",
    "# Agregar el directorio raíz del proyecto al sys.path\n",
    "project_root = Path.cwd().parent\n",
    "sys.path.insert(0, str(project_root))"
   ]
  },
  {
   "cell_type": "code",
   "execution_count": null,
   "id": "03212cbf",
   "metadata": {},
   "outputs": [],
   "source": [
    "# Importar la función directamente desde el paquete src\n",
    "from src import data_utils\n",
    "\n",
    "df = data_utils.cargar_excels()\n",
    "df.head()\n"
   ]
  }
 ],
 "metadata": {
  "language_info": {
   "name": "python"
  }
 },
 "nbformat": 4,
 "nbformat_minor": 5
}
